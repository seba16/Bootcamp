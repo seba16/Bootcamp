{
 "cells": [
  {
   "cell_type": "markdown",
   "metadata": {
    "id": "0hrpLWXmggeB"
   },
   "source": [
    "\n",
    "1.- **Descripción del Problema**: Imagina que estás desarrollando un sistema de gestión de calificaciones para una escuela. El sistema debe permitir a los profesores ingresar las calificaciones de los estudiantes para diferentes asignaturas y luego calcular el promedio de cada estudiante. Además, el sistema debe determinar si el estudiante ha aprobado o reprobado basándose en su promedio. Para aprobar, un estudiante debe tener un promedio de al menos 6.0.\n",
    "\n",
    "2.- Requisitos del Sistema:\n",
    "- El programa debe pedir al usuario que ingrese el número de estudiantes.\n",
    "- Para cada estudiante, el programa debe pedir al usuario que ingrese su nombre.\n",
    "- Luego, el programa debe pedir al usuario que ingrese el número de asignaturas.\n",
    "- Para cada asignatura, el programa debe pedir al usuario que ingrese el nombre de la asignatura y la calificación obtenida.\n",
    "- El programa debe calcular el promedio de calificaciones para cada estudiante.\n",
    "- Finalmente, el programa debe imprimir el nombre del estudiante, su promedio y un mensaje indicando si ha aprobado o reprobado.\n",
    "3.- Detalles Específicos:\n",
    "- Si se ingresa un valor no numérico para una calificación, el programa debe manejar el error e indicar que se ha ingresado un valor no válido.\n",
    "- Si se ingresa una calificación fuera del rango de 0 a 10, el programa debe ignorar esa calificación y pedir al usuario que ingrese una calificación válida.\n",
    "- El programa debe imprimir un resumen al final que incluya el nombre de todos los estudiantes, sus promedios y su estado (aprobado o reprobado).\n",
    "- El programa debe ser robusto y manejar casos en los que no se ingresen datos o se ingresen datos incorrectos.\n",
    "4.- Consideraciones Adicionales:\n",
    "- Asegúrate de utilizar funciones para organizar tu código y evitar redundancias.\n",
    "- Usa comentarios para explicar cada sección de tu código.\n",
    "- Considera posibles errores y cómo manejarlos adecuadamente.\n",
    "- Piensa en la experiencia del usuario y asegúrate de que las instrucciones sean claras y concisas.\n",
    "\n"
   ]
  },
  {
   "cell_type": "code",
   "execution_count": 1,
   "metadata": {
    "colab": {
     "base_uri": "https://localhost:8080/",
     "height": 373
    },
    "executionInfo": {
     "elapsed": 2778,
     "status": "error",
     "timestamp": 1748472860631,
     "user": {
      "displayName": "Sebastián Antón",
      "userId": "15618215281627306841"
     },
     "user_tz": 240
    },
    "id": "l2ksWMmFhW7n",
    "outputId": "4c91c8e5-4557-4eb5-ff74-441d19305d34"
   },
   "outputs": [
    {
     "name": "stdout",
     "output_type": "stream",
     "text": [
      "\n",
      "Resumen de estudiantes:\n",
      "Nombre: Seba, Promedio: 2.00, Estado: Reprobado\n",
      "Nombre: 3, Promedio: 2.00, Estado: Reprobado\n",
      "Nombre: Cris, Promedio: 9.67, Estado: Aprobado\n"
     ]
    }
   ],
   "source": [
    "def obtener_numero_estudiantes():\n",
    "    # Pide al usuario el número de estudiantes y devuelve el valor\n",
    "    while True:\n",
    "        try:\n",
    "            cantidad_alumnos = int(input(\"Ingrese el número de estudiantes: \"))\n",
    "            if cantidad_alumnos <= 0:\n",
    "                print(\"Por favor, ingrese un número positivo.\")\n",
    "                continue\n",
    "            break\n",
    "        except ValueError:\n",
    "            print(\"Por favor, ingrese un número válido.\")\n",
    "    return cantidad_alumnos\n",
    "\n",
    "def obtener_nombre_estudiante():\n",
    "    # Pide al usuario el nombre del estudiante y devuelve el valor\n",
    "    nombre = input(\"Ingrese el nombre del estudiante: \")\n",
    "    return nombre\n",
    "\n",
    "def obtener_numero_asignaturas():\n",
    "    # Pide al usuario el número de asignaturas y devuelve el valor\n",
    "    while True:\n",
    "        try:\n",
    "            num_asignaturas = int(input(\"Ingrese el número de asignaturas: \"))\n",
    "            if num_asignaturas <= 0:\n",
    "                print(\"Por favor, ingrese un número positivo.\")\n",
    "                continue\n",
    "            break\n",
    "        except ValueError:\n",
    "            print(\"Por favor, ingrese un número válido.\")\n",
    "    return num_asignaturas\n",
    "\n",
    "def obtener_calificaciones(num_asignaturas):\n",
    "    # Pide al usuario las calificaciones para cada asignatura y las devuelve en una lista\n",
    "    calificaciones = []\n",
    "    while len(calificaciones) < num_asignaturas:\n",
    "        calificacion = input(f\"Ingrese la calificación para la asignatura {len(calificaciones) + 1}: \")\n",
    "        try:\n",
    "            calificacion = float(calificacion)\n",
    "            if calificacion < 0 or calificacion > 10:\n",
    "                print(\"La calificación debe estar entre 0 y 10.\")\n",
    "                continue\n",
    "            calificaciones.append(calificacion)\n",
    "        except ValueError:\n",
    "            print(\"Por favor, ingrese un número válido.\")\n",
    "    return calificaciones\n",
    "\n",
    "def calcular_promedio(calificaciones):\n",
    "    # Calcula y devuelve el promedio de las calificaciones\n",
    "    if not calificaciones:\n",
    "        return 0\n",
    "    return sum(calificaciones) / len(calificaciones)\n",
    "\n",
    "def determinar_estado(promedio):\n",
    "    # Determina si el estudiante ha aprobado o reprobado basándose en el promedio\n",
    "    if promedio < 6.0:\n",
    "        return \"Reprobado\"\n",
    "    return \"Aprobado\"\n",
    "\n",
    "def imprimir_resumen(estudiantes):\n",
    "    # Imprime un resumen con el nombre de los estudiantes, su promedio y su estado\n",
    "    print(\"\\nResumen de estudiantes:\")\n",
    "    for estudiante in estudiantes:\n",
    "        print(f\"Nombre: {estudiante['nombre']}, Promedio: {estudiante['promedio']:.2f}, Estado: {estudiante['estado']}\")\n",
    "\n",
    "num_estudiantes = obtener_numero_estudiantes()\n",
    "estudiantes = []\n",
    "\n",
    "for _ in range(num_estudiantes):\n",
    "    nombre = obtener_nombre_estudiante()\n",
    "    num_asignaturas = obtener_numero_asignaturas()\n",
    "    calificaciones = obtener_calificaciones(num_asignaturas)\n",
    "    promedio = calcular_promedio(calificaciones)\n",
    "    estado = determinar_estado(promedio)\n",
    "\n",
    "    estudiantes.append({\n",
    "        'nombre': nombre,\n",
    "        'promedio': promedio,\n",
    "        'estado': estado\n",
    "    })\n",
    "\n",
    "imprimir_resumen(estudiantes)"
   ]
  }
 ],
 "metadata": {
  "colab": {
   "authorship_tag": "ABX9TyP5EJPuBcHwbBxW4/Gx/HHb",
   "provenance": []
  },
  "kernelspec": {
   "display_name": "venv",
   "language": "python",
   "name": "python3"
  },
  "language_info": {
   "codemirror_mode": {
    "name": "ipython",
    "version": 3
   },
   "file_extension": ".py",
   "mimetype": "text/x-python",
   "name": "python",
   "nbconvert_exporter": "python",
   "pygments_lexer": "ipython3",
   "version": "3.11.12"
  }
 },
 "nbformat": 4,
 "nbformat_minor": 0
}
