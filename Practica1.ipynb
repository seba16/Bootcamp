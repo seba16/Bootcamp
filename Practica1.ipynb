{
  "nbformat": 4,
  "nbformat_minor": 0,
  "metadata": {
    "colab": {
      "provenance": [],
      "toc_visible": true,
      "authorship_tag": "ABX9TyOu1b/bwceJEwC1c2vq2AAX",
      "include_colab_link": true
    },
    "kernelspec": {
      "name": "python3",
      "display_name": "Python 3"
    },
    "language_info": {
      "name": "python"
    }
  },
  "cells": [
    {
      "cell_type": "markdown",
      "metadata": {
        "id": "view-in-github",
        "colab_type": "text"
      },
      "source": [
        "<a href=\"https://colab.research.google.com/github/seba16/Bootcamp/blob/main/Practica1.ipynb\" target=\"_parent\"><img src=\"https://colab.research.google.com/assets/colab-badge.svg\" alt=\"Open In Colab\"/></a>"
      ]
    },
    {
      "cell_type": "markdown",
      "source": [
        "# Tarea: Introducción a Google Colaboratory y Python Básico\n",
        "**Nombre:** Sebastián Antón"
      ],
      "metadata": {
        "id": "BbPbheLthwZ2"
      }
    },
    {
      "cell_type": "code",
      "source": [
        "# Asigna el valor 10 a la variable a\n",
        "a = 10\n",
        "\n",
        "# Asigna el valor 20 a la variable b\n",
        "b = 20\n",
        "\n",
        "# Calcula la suma de a y b\n",
        "suma = a + b\n",
        "\n",
        "# Imprime el resultado\n",
        "print('La suma de a y b es:', suma)"
      ],
      "metadata": {
        "colab": {
          "base_uri": "https://localhost:8080/"
        },
        "id": "aKPOMNOTiDbK",
        "outputId": "e74814b4-5092-4e8b-fefd-cc563f99664c"
      },
      "execution_count": 6,
      "outputs": [
        {
          "output_type": "stream",
          "name": "stdout",
          "text": [
            "La suma de a y b es: 30\n"
          ]
        }
      ]
    },
    {
      "cell_type": "code",
      "source": [
        "# Definición de la función\n",
        "def sumar(x, y):\n",
        "    return x + y\n",
        "\n",
        "# Llamada a la función\n",
        "resultado1 = sumar(5, 7)\n",
        "print('La suma de 5 y 7 es:', resultado1)\n",
        "\n",
        "resultado2 = sumar(10, 20)\n",
        "print('La suma de 10 y 20 es:', resultado2)"
      ],
      "metadata": {
        "colab": {
          "base_uri": "https://localhost:8080/"
        },
        "id": "UauWS2VYiNxX",
        "outputId": "2d2d67de-462e-4ed6-c2d5-6c3250eb49bd"
      },
      "execution_count": 7,
      "outputs": [
        {
          "output_type": "stream",
          "name": "stdout",
          "text": [
            "La suma de 5 y 7 es: 12\n",
            "La suma de 10 y 20 es: 30\n"
          ]
        }
      ]
    },
    {
      "cell_type": "markdown",
      "source": [
        "## Conclusión\n",
        "En esta tarea, aprendí a usar Google Colaboratory para escribir y ejecutar código en Python, a utilizar algunas de las funcionalidades básicas del Colab, que son la escritura de texto (markdown) y la escritura de código. También repasé algunas operaciones matemáticas básicas y cómo definir y utilizar funciones en Python."
      ],
      "metadata": {
        "id": "qrRdlZumiTj_"
      }
    }
  ]
}